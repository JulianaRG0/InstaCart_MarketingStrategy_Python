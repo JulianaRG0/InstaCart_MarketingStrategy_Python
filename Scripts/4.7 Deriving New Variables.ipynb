{
 "cells": [
  {
   "cell_type": "markdown",
   "id": "377fdc0f",
   "metadata": {},
   "source": [
    "### Import libraries"
   ]
  },
  {
   "cell_type": "code",
   "execution_count": 1,
   "id": "8c9d5fbd",
   "metadata": {},
   "outputs": [],
   "source": [
    "# Import libraries\n",
    "import pandas as pd\n",
    "import numpy as np\n",
    "import os"
   ]
  },
  {
   "cell_type": "markdown",
   "id": "8235cf59",
   "metadata": {},
   "source": [
    "### Import the ords_prods_merged dataframe"
   ]
  },
  {
   "cell_type": "code",
   "execution_count": 2,
   "id": "0ae1398a",
   "metadata": {},
   "outputs": [],
   "source": [
    "# Import product data\n",
    "path = r\"C:\\Users\\Juliana\\Documents\\DATA ANALYTICS COURSE\\IMMERSION\\4. Python\\Instacart Basket Analysis\"\n",
    "ords_prods_merged= pd.read_pickle(os.path.join(path,'02 Data','Prepared Data','orders_products_merged.pkl'))"
   ]
  },
  {
   "cell_type": "code",
   "execution_count": 3,
   "id": "03ae7246",
   "metadata": {},
   "outputs": [
    {
     "data": {
      "text/html": [
       "<div>\n",
       "<style scoped>\n",
       "    .dataframe tbody tr th:only-of-type {\n",
       "        vertical-align: middle;\n",
       "    }\n",
       "\n",
       "    .dataframe tbody tr th {\n",
       "        vertical-align: top;\n",
       "    }\n",
       "\n",
       "    .dataframe thead th {\n",
       "        text-align: right;\n",
       "    }\n",
       "</style>\n",
       "<table border=\"1\" class=\"dataframe\">\n",
       "  <thead>\n",
       "    <tr style=\"text-align: right;\">\n",
       "      <th></th>\n",
       "      <th>order_id</th>\n",
       "      <th>user_id</th>\n",
       "      <th>order_number</th>\n",
       "      <th>orders_day_of_week</th>\n",
       "      <th>order_hour_of_day</th>\n",
       "      <th>days_since_last_order</th>\n",
       "      <th>product_id</th>\n",
       "      <th>add_to_cart_order</th>\n",
       "      <th>reordered</th>\n",
       "      <th>product_name</th>\n",
       "      <th>aisle_id</th>\n",
       "      <th>department_id</th>\n",
       "      <th>prices</th>\n",
       "      <th>_merge</th>\n",
       "    </tr>\n",
       "  </thead>\n",
       "  <tbody>\n",
       "    <tr>\n",
       "      <th>0</th>\n",
       "      <td>2539329</td>\n",
       "      <td>1</td>\n",
       "      <td>1</td>\n",
       "      <td>2</td>\n",
       "      <td>8</td>\n",
       "      <td>NaN</td>\n",
       "      <td>196.0</td>\n",
       "      <td>1.0</td>\n",
       "      <td>0.0</td>\n",
       "      <td>Soda</td>\n",
       "      <td>77</td>\n",
       "      <td>7</td>\n",
       "      <td>9.0</td>\n",
       "      <td>both</td>\n",
       "    </tr>\n",
       "    <tr>\n",
       "      <th>1</th>\n",
       "      <td>2398795</td>\n",
       "      <td>1</td>\n",
       "      <td>2</td>\n",
       "      <td>3</td>\n",
       "      <td>7</td>\n",
       "      <td>15.0</td>\n",
       "      <td>196.0</td>\n",
       "      <td>1.0</td>\n",
       "      <td>1.0</td>\n",
       "      <td>Soda</td>\n",
       "      <td>77</td>\n",
       "      <td>7</td>\n",
       "      <td>9.0</td>\n",
       "      <td>both</td>\n",
       "    </tr>\n",
       "    <tr>\n",
       "      <th>2</th>\n",
       "      <td>473747</td>\n",
       "      <td>1</td>\n",
       "      <td>3</td>\n",
       "      <td>3</td>\n",
       "      <td>12</td>\n",
       "      <td>21.0</td>\n",
       "      <td>196.0</td>\n",
       "      <td>1.0</td>\n",
       "      <td>1.0</td>\n",
       "      <td>Soda</td>\n",
       "      <td>77</td>\n",
       "      <td>7</td>\n",
       "      <td>9.0</td>\n",
       "      <td>both</td>\n",
       "    </tr>\n",
       "    <tr>\n",
       "      <th>3</th>\n",
       "      <td>2254736</td>\n",
       "      <td>1</td>\n",
       "      <td>4</td>\n",
       "      <td>4</td>\n",
       "      <td>7</td>\n",
       "      <td>29.0</td>\n",
       "      <td>196.0</td>\n",
       "      <td>1.0</td>\n",
       "      <td>1.0</td>\n",
       "      <td>Soda</td>\n",
       "      <td>77</td>\n",
       "      <td>7</td>\n",
       "      <td>9.0</td>\n",
       "      <td>both</td>\n",
       "    </tr>\n",
       "    <tr>\n",
       "      <th>4</th>\n",
       "      <td>431534</td>\n",
       "      <td>1</td>\n",
       "      <td>5</td>\n",
       "      <td>4</td>\n",
       "      <td>15</td>\n",
       "      <td>28.0</td>\n",
       "      <td>196.0</td>\n",
       "      <td>1.0</td>\n",
       "      <td>1.0</td>\n",
       "      <td>Soda</td>\n",
       "      <td>77</td>\n",
       "      <td>7</td>\n",
       "      <td>9.0</td>\n",
       "      <td>both</td>\n",
       "    </tr>\n",
       "  </tbody>\n",
       "</table>\n",
       "</div>"
      ],
      "text/plain": [
       "   order_id  user_id  order_number  orders_day_of_week  order_hour_of_day  \\\n",
       "0   2539329        1             1                   2                  8   \n",
       "1   2398795        1             2                   3                  7   \n",
       "2    473747        1             3                   3                 12   \n",
       "3   2254736        1             4                   4                  7   \n",
       "4    431534        1             5                   4                 15   \n",
       "\n",
       "   days_since_last_order  product_id  add_to_cart_order  reordered  \\\n",
       "0                    NaN       196.0                1.0        0.0   \n",
       "1                   15.0       196.0                1.0        1.0   \n",
       "2                   21.0       196.0                1.0        1.0   \n",
       "3                   29.0       196.0                1.0        1.0   \n",
       "4                   28.0       196.0                1.0        1.0   \n",
       "\n",
       "  product_name  aisle_id  department_id  prices _merge  \n",
       "0         Soda        77              7     9.0   both  \n",
       "1         Soda        77              7     9.0   both  \n",
       "2         Soda        77              7     9.0   both  \n",
       "3         Soda        77              7     9.0   both  \n",
       "4         Soda        77              7     9.0   both  "
      ]
     },
     "execution_count": 3,
     "metadata": {},
     "output_type": "execute_result"
    }
   ],
   "source": [
    "ords_prods_merged.head()"
   ]
  },
  {
   "cell_type": "code",
   "execution_count": 4,
   "id": "43137a62",
   "metadata": {},
   "outputs": [
    {
     "data": {
      "text/plain": [
       "count    3.243303e+07\n",
       "mean     7.794921e+00\n",
       "std      4.124281e+00\n",
       "min      1.000000e+00\n",
       "25%      4.200000e+00\n",
       "50%      7.400000e+00\n",
       "75%      1.130000e+01\n",
       "max      2.500000e+01\n",
       "Name: prices, dtype: float64"
      ]
     },
     "execution_count": 4,
     "metadata": {},
     "output_type": "execute_result"
    }
   ],
   "source": [
    "ords_prods_merged['prices'].describe()"
   ]
  },
  {
   "cell_type": "code",
   "execution_count": 5,
   "id": "c49ed320",
   "metadata": {},
   "outputs": [],
   "source": [
    "# Create subset\n",
    "df = ords_prods_merged[:1000000]"
   ]
  },
  {
   "cell_type": "code",
   "execution_count": 6,
   "id": "42791a34",
   "metadata": {},
   "outputs": [
    {
     "data": {
      "text/plain": [
       "(1000000, 14)"
      ]
     },
     "execution_count": 6,
     "metadata": {},
     "output_type": "execute_result"
    }
   ],
   "source": [
    "df.shape"
   ]
  },
  {
   "cell_type": "code",
   "execution_count": 7,
   "id": "8c035490",
   "metadata": {},
   "outputs": [],
   "source": [
    "# Define a function\n",
    "\n",
    "def price_label(row):\n",
    "\n",
    "  if row['prices'] <= 5:\n",
    "    return 'Low-range product'\n",
    "  elif (row['prices'] > 5) and (row['prices'] <= 15):\n",
    "    return 'Mid-range product'\n",
    "  elif row['prices'] > 15:\n",
    "    return 'High range'\n",
    "  else: return 'Not enough data'"
   ]
  },
  {
   "cell_type": "code",
   "execution_count": 8,
   "id": "fa14d23a",
   "metadata": {},
   "outputs": [
    {
     "name": "stderr",
     "output_type": "stream",
     "text": [
      "C:\\Users\\Juliana\\AppData\\Local\\Temp\\ipykernel_19868\\1747324911.py:2: SettingWithCopyWarning: \n",
      "A value is trying to be set on a copy of a slice from a DataFrame.\n",
      "Try using .loc[row_indexer,col_indexer] = value instead\n",
      "\n",
      "See the caveats in the documentation: https://pandas.pydata.org/pandas-docs/stable/user_guide/indexing.html#returning-a-view-versus-a-copy\n",
      "  df['price_range'] = df.apply(price_label, axis=1)\n"
     ]
    }
   ],
   "source": [
    "# Use on the df \n",
    "df['price_range'] = df.apply(price_label, axis=1)"
   ]
  },
  {
   "cell_type": "code",
   "execution_count": 9,
   "id": "25fe4499",
   "metadata": {
    "scrolled": true
   },
   "outputs": [
    {
     "data": {
      "text/html": [
       "<div>\n",
       "<style scoped>\n",
       "    .dataframe tbody tr th:only-of-type {\n",
       "        vertical-align: middle;\n",
       "    }\n",
       "\n",
       "    .dataframe tbody tr th {\n",
       "        vertical-align: top;\n",
       "    }\n",
       "\n",
       "    .dataframe thead th {\n",
       "        text-align: right;\n",
       "    }\n",
       "</style>\n",
       "<table border=\"1\" class=\"dataframe\">\n",
       "  <thead>\n",
       "    <tr style=\"text-align: right;\">\n",
       "      <th></th>\n",
       "      <th>order_id</th>\n",
       "      <th>user_id</th>\n",
       "      <th>order_number</th>\n",
       "      <th>orders_day_of_week</th>\n",
       "      <th>order_hour_of_day</th>\n",
       "      <th>days_since_last_order</th>\n",
       "      <th>product_id</th>\n",
       "      <th>add_to_cart_order</th>\n",
       "      <th>reordered</th>\n",
       "      <th>product_name</th>\n",
       "      <th>aisle_id</th>\n",
       "      <th>department_id</th>\n",
       "      <th>prices</th>\n",
       "      <th>_merge</th>\n",
       "      <th>price_range</th>\n",
       "    </tr>\n",
       "  </thead>\n",
       "  <tbody>\n",
       "    <tr>\n",
       "      <th>0</th>\n",
       "      <td>2539329</td>\n",
       "      <td>1</td>\n",
       "      <td>1</td>\n",
       "      <td>2</td>\n",
       "      <td>8</td>\n",
       "      <td>NaN</td>\n",
       "      <td>196.0</td>\n",
       "      <td>1.0</td>\n",
       "      <td>0.0</td>\n",
       "      <td>Soda</td>\n",
       "      <td>77</td>\n",
       "      <td>7</td>\n",
       "      <td>9.0</td>\n",
       "      <td>both</td>\n",
       "      <td>Mid-range product</td>\n",
       "    </tr>\n",
       "    <tr>\n",
       "      <th>1</th>\n",
       "      <td>2398795</td>\n",
       "      <td>1</td>\n",
       "      <td>2</td>\n",
       "      <td>3</td>\n",
       "      <td>7</td>\n",
       "      <td>15.0</td>\n",
       "      <td>196.0</td>\n",
       "      <td>1.0</td>\n",
       "      <td>1.0</td>\n",
       "      <td>Soda</td>\n",
       "      <td>77</td>\n",
       "      <td>7</td>\n",
       "      <td>9.0</td>\n",
       "      <td>both</td>\n",
       "      <td>Mid-range product</td>\n",
       "    </tr>\n",
       "    <tr>\n",
       "      <th>2</th>\n",
       "      <td>473747</td>\n",
       "      <td>1</td>\n",
       "      <td>3</td>\n",
       "      <td>3</td>\n",
       "      <td>12</td>\n",
       "      <td>21.0</td>\n",
       "      <td>196.0</td>\n",
       "      <td>1.0</td>\n",
       "      <td>1.0</td>\n",
       "      <td>Soda</td>\n",
       "      <td>77</td>\n",
       "      <td>7</td>\n",
       "      <td>9.0</td>\n",
       "      <td>both</td>\n",
       "      <td>Mid-range product</td>\n",
       "    </tr>\n",
       "    <tr>\n",
       "      <th>3</th>\n",
       "      <td>2254736</td>\n",
       "      <td>1</td>\n",
       "      <td>4</td>\n",
       "      <td>4</td>\n",
       "      <td>7</td>\n",
       "      <td>29.0</td>\n",
       "      <td>196.0</td>\n",
       "      <td>1.0</td>\n",
       "      <td>1.0</td>\n",
       "      <td>Soda</td>\n",
       "      <td>77</td>\n",
       "      <td>7</td>\n",
       "      <td>9.0</td>\n",
       "      <td>both</td>\n",
       "      <td>Mid-range product</td>\n",
       "    </tr>\n",
       "    <tr>\n",
       "      <th>4</th>\n",
       "      <td>431534</td>\n",
       "      <td>1</td>\n",
       "      <td>5</td>\n",
       "      <td>4</td>\n",
       "      <td>15</td>\n",
       "      <td>28.0</td>\n",
       "      <td>196.0</td>\n",
       "      <td>1.0</td>\n",
       "      <td>1.0</td>\n",
       "      <td>Soda</td>\n",
       "      <td>77</td>\n",
       "      <td>7</td>\n",
       "      <td>9.0</td>\n",
       "      <td>both</td>\n",
       "      <td>Mid-range product</td>\n",
       "    </tr>\n",
       "  </tbody>\n",
       "</table>\n",
       "</div>"
      ],
      "text/plain": [
       "   order_id  user_id  order_number  orders_day_of_week  order_hour_of_day  \\\n",
       "0   2539329        1             1                   2                  8   \n",
       "1   2398795        1             2                   3                  7   \n",
       "2    473747        1             3                   3                 12   \n",
       "3   2254736        1             4                   4                  7   \n",
       "4    431534        1             5                   4                 15   \n",
       "\n",
       "   days_since_last_order  product_id  add_to_cart_order  reordered  \\\n",
       "0                    NaN       196.0                1.0        0.0   \n",
       "1                   15.0       196.0                1.0        1.0   \n",
       "2                   21.0       196.0                1.0        1.0   \n",
       "3                   29.0       196.0                1.0        1.0   \n",
       "4                   28.0       196.0                1.0        1.0   \n",
       "\n",
       "  product_name  aisle_id  department_id  prices _merge        price_range  \n",
       "0         Soda        77              7     9.0   both  Mid-range product  \n",
       "1         Soda        77              7     9.0   both  Mid-range product  \n",
       "2         Soda        77              7     9.0   both  Mid-range product  \n",
       "3         Soda        77              7     9.0   both  Mid-range product  \n",
       "4         Soda        77              7     9.0   both  Mid-range product  "
      ]
     },
     "execution_count": 9,
     "metadata": {},
     "output_type": "execute_result"
    }
   ],
   "source": [
    "df.head()"
   ]
  },
  {
   "cell_type": "code",
   "execution_count": 10,
   "id": "cb883a05",
   "metadata": {},
   "outputs": [
    {
     "data": {
      "text/plain": [
       "Mid-range product    756450\n",
       "Low-range product    243550\n",
       "Name: price_range, dtype: int64"
      ]
     },
     "execution_count": 10,
     "metadata": {},
     "output_type": "execute_result"
    }
   ],
   "source": [
    "df['price_range'].value_counts()"
   ]
  },
  {
   "cell_type": "code",
   "execution_count": 11,
   "id": "ad8c06ce",
   "metadata": {},
   "outputs": [
    {
     "data": {
      "text/plain": [
       "14.800000190734863"
      ]
     },
     "execution_count": 11,
     "metadata": {},
     "output_type": "execute_result"
    }
   ],
   "source": [
    "# check max price\n",
    "df['prices'].max()"
   ]
  },
  {
   "cell_type": "markdown",
   "id": "f95ee9b0",
   "metadata": {},
   "source": [
    "### If-Statements with the loc() Function"
   ]
  },
  {
   "cell_type": "code",
   "execution_count": 12,
   "id": "6c7cb3f6",
   "metadata": {},
   "outputs": [
    {
     "name": "stderr",
     "output_type": "stream",
     "text": [
      "C:\\Users\\Juliana\\AppData\\Local\\Temp\\ipykernel_19868\\2026763200.py:2: SettingWithCopyWarning: \n",
      "A value is trying to be set on a copy of a slice from a DataFrame.\n",
      "Try using .loc[row_indexer,col_indexer] = value instead\n",
      "\n",
      "See the caveats in the documentation: https://pandas.pydata.org/pandas-docs/stable/user_guide/indexing.html#returning-a-view-versus-a-copy\n",
      "  df.loc[df['prices'] > 15, 'price_range_loc'] = 'High-range product'\n"
     ]
    }
   ],
   "source": [
    "# Create conditions\n",
    "df.loc[df['prices'] > 15, 'price_range_loc'] = 'High-range product'"
   ]
  },
  {
   "cell_type": "code",
   "execution_count": 13,
   "id": "633f5954",
   "metadata": {},
   "outputs": [],
   "source": [
    "df.loc[(df['prices'] <= 15) & (df['prices'] > 5), 'price_range_loc'] = 'Mid-range product' "
   ]
  },
  {
   "cell_type": "code",
   "execution_count": 14,
   "id": "539a5ec8",
   "metadata": {},
   "outputs": [],
   "source": [
    "df.loc[df['prices'] <= 5, 'price_range_loc'] = 'Low-range product'"
   ]
  },
  {
   "cell_type": "code",
   "execution_count": 15,
   "id": "ba5190ad",
   "metadata": {},
   "outputs": [
    {
     "data": {
      "text/plain": [
       "Mid-range product    756450\n",
       "Low-range product    243550\n",
       "Name: price_range_loc, dtype: int64"
      ]
     },
     "execution_count": 15,
     "metadata": {},
     "output_type": "execute_result"
    }
   ],
   "source": [
    "df['price_range_loc'].value_counts()"
   ]
  },
  {
   "cell_type": "markdown",
   "id": "0636f799",
   "metadata": {},
   "source": [
    "#### Apply loc() to the entire df"
   ]
  },
  {
   "cell_type": "code",
   "execution_count": 16,
   "id": "2c7630ca",
   "metadata": {},
   "outputs": [],
   "source": [
    "ords_prods_merged.loc[ords_prods_merged['prices']>15,'price_range_loc'] = 'High-range product'"
   ]
  },
  {
   "cell_type": "code",
   "execution_count": 17,
   "id": "d4e3707c",
   "metadata": {},
   "outputs": [],
   "source": [
    "ords_prods_merged.loc[(ords_prods_merged['prices']<15) & (ords_prods_merged['prices']>5) ,'price_range_loc'] = 'Mid-range product'"
   ]
  },
  {
   "cell_type": "code",
   "execution_count": 18,
   "id": "b152699f",
   "metadata": {},
   "outputs": [],
   "source": [
    "ords_prods_merged.loc[ords_prods_merged['prices']<= 5,'price_range_loc'] = 'Low-range product'"
   ]
  },
  {
   "cell_type": "code",
   "execution_count": 19,
   "id": "f70f5783",
   "metadata": {},
   "outputs": [
    {
     "data": {
      "text/plain": [
       "Mid-range product     21792446\n",
       "Low-range product     10130768\n",
       "High-range product      412555\n",
       "Name: price_range_loc, dtype: int64"
      ]
     },
     "execution_count": 19,
     "metadata": {},
     "output_type": "execute_result"
    }
   ],
   "source": [
    "ords_prods_merged['price_range_loc'].value_counts()"
   ]
  },
  {
   "cell_type": "markdown",
   "id": "71c22fce",
   "metadata": {},
   "source": [
    "### If-Statements with For-Loops"
   ]
  },
  {
   "cell_type": "code",
   "execution_count": 20,
   "id": "94c0addd",
   "metadata": {},
   "outputs": [
    {
     "data": {
      "text/plain": [
       "0    6209410\n",
       "1    5665604\n",
       "6    4500101\n",
       "2    4217610\n",
       "5    4209334\n",
       "3    3843929\n",
       "4    3787042\n",
       "Name: orders_day_of_week, dtype: int64"
      ]
     },
     "execution_count": 20,
     "metadata": {},
     "output_type": "execute_result"
    }
   ],
   "source": [
    "# frequency of the “orders_day_of_the_week”\n",
    "ords_prods_merged['orders_day_of_week'].value_counts()"
   ]
  },
  {
   "cell_type": "code",
   "execution_count": 21,
   "id": "209a36c2",
   "metadata": {},
   "outputs": [],
   "source": [
    "# for-loop to classified each day's frequency\n",
    "# Create an empty list into which you can place the results from your loop\n",
    "\n",
    "result = []\n",
    "\n",
    "# Loop\n",
    "\n",
    "for value in ords_prods_merged[\"orders_day_of_week\"]:\n",
    "  if value == 0:\n",
    "    result.append(\"Busiest day\")\n",
    "  elif value == 4:\n",
    "    result.append(\"Least busy\")\n",
    "  else:\n",
    "    result.append(\"Regularly busy\")"
   ]
  },
  {
   "cell_type": "code",
   "execution_count": 22,
   "id": "4d90fed0",
   "metadata": {},
   "outputs": [],
   "source": [
    "# create a new column\n",
    "ords_prods_merged['busiest_day'] = result"
   ]
  },
  {
   "cell_type": "code",
   "execution_count": 23,
   "id": "c79c1df7",
   "metadata": {},
   "outputs": [
    {
     "data": {
      "text/plain": [
       "Regularly busy    22436578\n",
       "Busiest day        6209410\n",
       "Least busy         3787042\n",
       "Name: busiest_day, dtype: int64"
      ]
     },
     "execution_count": 23,
     "metadata": {},
     "output_type": "execute_result"
    }
   ],
   "source": [
    "#Check frequency\n",
    "ords_prods_merged['busiest_day'].value_counts()"
   ]
  },
  {
   "cell_type": "markdown",
   "id": "0b8da1c5",
   "metadata": {},
   "source": [
    "### 02. Create a new column for the modified conditions"
   ]
  },
  {
   "cell_type": "code",
   "execution_count": 24,
   "id": "6235442c",
   "metadata": {},
   "outputs": [],
   "source": [
    "# Create an empty list into which you can place the results from your loop\n",
    "\n",
    "new_results = []\n",
    "\n",
    "# for loop\n",
    "\n",
    "for value in ords_prods_merged[\"orders_day_of_week\"]:\n",
    "  if value == 0 or value == 1:\n",
    "    new_results.append(\"Busiest day\")\n",
    "  elif value == 3 or value ==4:\n",
    "    new_results.append(\"Least busy days\")\n",
    "  else:\n",
    "    new_results.append(\"Regularly busy days\")"
   ]
  },
  {
   "cell_type": "code",
   "execution_count": 25,
   "id": "bae731ec",
   "metadata": {},
   "outputs": [],
   "source": [
    "# create a new column\n",
    "ords_prods_merged['busiest_days'] = new_results"
   ]
  },
  {
   "cell_type": "markdown",
   "id": "a2916c86",
   "metadata": {},
   "source": [
    "### 03. Check the values of this new column for accuracy."
   ]
  },
  {
   "cell_type": "code",
   "execution_count": 26,
   "id": "89ab07da",
   "metadata": {},
   "outputs": [
    {
     "data": {
      "text/plain": [
       "Regularly busy days    12927045\n",
       "Busiest day            11875014\n",
       "Least busy days         7630971\n",
       "Name: busiest_days, dtype: int64"
      ]
     },
     "execution_count": 26,
     "metadata": {},
     "output_type": "execute_result"
    }
   ],
   "source": [
    "#Check frequency\n",
    "ords_prods_merged['busiest_days'].value_counts()"
   ]
  },
  {
   "cell_type": "markdown",
   "id": "3006e9c9",
   "metadata": {},
   "source": [
    "#### The sum of the newly calculated frequencies corresponds to the orders for each day and has been appropriately aggregated."
   ]
  },
  {
   "cell_type": "code",
   "execution_count": 27,
   "id": "cc33efa2",
   "metadata": {},
   "outputs": [
    {
     "data": {
      "text/html": [
       "<div>\n",
       "<style scoped>\n",
       "    .dataframe tbody tr th:only-of-type {\n",
       "        vertical-align: middle;\n",
       "    }\n",
       "\n",
       "    .dataframe tbody tr th {\n",
       "        vertical-align: top;\n",
       "    }\n",
       "\n",
       "    .dataframe thead th {\n",
       "        text-align: right;\n",
       "    }\n",
       "</style>\n",
       "<table border=\"1\" class=\"dataframe\">\n",
       "  <thead>\n",
       "    <tr style=\"text-align: right;\">\n",
       "      <th></th>\n",
       "      <th>order_id</th>\n",
       "      <th>user_id</th>\n",
       "      <th>order_number</th>\n",
       "      <th>orders_day_of_week</th>\n",
       "      <th>order_hour_of_day</th>\n",
       "      <th>days_since_last_order</th>\n",
       "      <th>product_id</th>\n",
       "      <th>add_to_cart_order</th>\n",
       "      <th>reordered</th>\n",
       "      <th>product_name</th>\n",
       "      <th>aisle_id</th>\n",
       "      <th>department_id</th>\n",
       "      <th>prices</th>\n",
       "      <th>_merge</th>\n",
       "      <th>price_range_loc</th>\n",
       "      <th>busiest_day</th>\n",
       "      <th>busiest_days</th>\n",
       "    </tr>\n",
       "  </thead>\n",
       "  <tbody>\n",
       "    <tr>\n",
       "      <th>0</th>\n",
       "      <td>2539329</td>\n",
       "      <td>1</td>\n",
       "      <td>1</td>\n",
       "      <td>2</td>\n",
       "      <td>8</td>\n",
       "      <td>NaN</td>\n",
       "      <td>196.0</td>\n",
       "      <td>1.0</td>\n",
       "      <td>0.0</td>\n",
       "      <td>Soda</td>\n",
       "      <td>77</td>\n",
       "      <td>7</td>\n",
       "      <td>9.0</td>\n",
       "      <td>both</td>\n",
       "      <td>Mid-range product</td>\n",
       "      <td>Regularly busy</td>\n",
       "      <td>Regularly busy days</td>\n",
       "    </tr>\n",
       "    <tr>\n",
       "      <th>1</th>\n",
       "      <td>2398795</td>\n",
       "      <td>1</td>\n",
       "      <td>2</td>\n",
       "      <td>3</td>\n",
       "      <td>7</td>\n",
       "      <td>15.0</td>\n",
       "      <td>196.0</td>\n",
       "      <td>1.0</td>\n",
       "      <td>1.0</td>\n",
       "      <td>Soda</td>\n",
       "      <td>77</td>\n",
       "      <td>7</td>\n",
       "      <td>9.0</td>\n",
       "      <td>both</td>\n",
       "      <td>Mid-range product</td>\n",
       "      <td>Regularly busy</td>\n",
       "      <td>Least busy days</td>\n",
       "    </tr>\n",
       "    <tr>\n",
       "      <th>2</th>\n",
       "      <td>473747</td>\n",
       "      <td>1</td>\n",
       "      <td>3</td>\n",
       "      <td>3</td>\n",
       "      <td>12</td>\n",
       "      <td>21.0</td>\n",
       "      <td>196.0</td>\n",
       "      <td>1.0</td>\n",
       "      <td>1.0</td>\n",
       "      <td>Soda</td>\n",
       "      <td>77</td>\n",
       "      <td>7</td>\n",
       "      <td>9.0</td>\n",
       "      <td>both</td>\n",
       "      <td>Mid-range product</td>\n",
       "      <td>Regularly busy</td>\n",
       "      <td>Least busy days</td>\n",
       "    </tr>\n",
       "    <tr>\n",
       "      <th>3</th>\n",
       "      <td>2254736</td>\n",
       "      <td>1</td>\n",
       "      <td>4</td>\n",
       "      <td>4</td>\n",
       "      <td>7</td>\n",
       "      <td>29.0</td>\n",
       "      <td>196.0</td>\n",
       "      <td>1.0</td>\n",
       "      <td>1.0</td>\n",
       "      <td>Soda</td>\n",
       "      <td>77</td>\n",
       "      <td>7</td>\n",
       "      <td>9.0</td>\n",
       "      <td>both</td>\n",
       "      <td>Mid-range product</td>\n",
       "      <td>Least busy</td>\n",
       "      <td>Least busy days</td>\n",
       "    </tr>\n",
       "    <tr>\n",
       "      <th>4</th>\n",
       "      <td>431534</td>\n",
       "      <td>1</td>\n",
       "      <td>5</td>\n",
       "      <td>4</td>\n",
       "      <td>15</td>\n",
       "      <td>28.0</td>\n",
       "      <td>196.0</td>\n",
       "      <td>1.0</td>\n",
       "      <td>1.0</td>\n",
       "      <td>Soda</td>\n",
       "      <td>77</td>\n",
       "      <td>7</td>\n",
       "      <td>9.0</td>\n",
       "      <td>both</td>\n",
       "      <td>Mid-range product</td>\n",
       "      <td>Least busy</td>\n",
       "      <td>Least busy days</td>\n",
       "    </tr>\n",
       "  </tbody>\n",
       "</table>\n",
       "</div>"
      ],
      "text/plain": [
       "   order_id  user_id  order_number  orders_day_of_week  order_hour_of_day  \\\n",
       "0   2539329        1             1                   2                  8   \n",
       "1   2398795        1             2                   3                  7   \n",
       "2    473747        1             3                   3                 12   \n",
       "3   2254736        1             4                   4                  7   \n",
       "4    431534        1             5                   4                 15   \n",
       "\n",
       "   days_since_last_order  product_id  add_to_cart_order  reordered  \\\n",
       "0                    NaN       196.0                1.0        0.0   \n",
       "1                   15.0       196.0                1.0        1.0   \n",
       "2                   21.0       196.0                1.0        1.0   \n",
       "3                   29.0       196.0                1.0        1.0   \n",
       "4                   28.0       196.0                1.0        1.0   \n",
       "\n",
       "  product_name  aisle_id  department_id  prices _merge    price_range_loc  \\\n",
       "0         Soda        77              7     9.0   both  Mid-range product   \n",
       "1         Soda        77              7     9.0   both  Mid-range product   \n",
       "2         Soda        77              7     9.0   both  Mid-range product   \n",
       "3         Soda        77              7     9.0   both  Mid-range product   \n",
       "4         Soda        77              7     9.0   both  Mid-range product   \n",
       "\n",
       "      busiest_day         busiest_days  \n",
       "0  Regularly busy  Regularly busy days  \n",
       "1  Regularly busy      Least busy days  \n",
       "2  Regularly busy      Least busy days  \n",
       "3      Least busy      Least busy days  \n",
       "4      Least busy      Least busy days  "
      ]
     },
     "execution_count": 27,
     "metadata": {},
     "output_type": "execute_result"
    }
   ],
   "source": [
    "#Check new column\n",
    "ords_prods_merged.head()"
   ]
  },
  {
   "cell_type": "markdown",
   "id": "b83a3fb2",
   "metadata": {},
   "source": [
    "### 04. Create a new column containing these labels called “busiest_period_of_day.”"
   ]
  },
  {
   "cell_type": "code",
   "execution_count": 28,
   "id": "88d41509",
   "metadata": {},
   "outputs": [
    {
     "data": {
      "text/plain": [
       "10    2764288\n",
       "11    2738483\n",
       "14    2691448\n",
       "15    2664420\n",
       "13    2663169\n",
       "12    2620719\n",
       "16    2537358\n",
       "9     2456591\n",
       "17    2089385\n",
       "8     1719888\n",
       "18    1637858\n",
       "19    1259335\n",
       "20     976991\n",
       "7      891900\n",
       "21     796341\n",
       "22     634715\n",
       "23     402593\n",
       "6      290763\n",
       "0      218925\n",
       "1      115780\n",
       "5       88054\n",
       "2       69429\n",
       "4       53280\n",
       "3       51317\n",
       "Name: order_hour_of_day, dtype: int64"
      ]
     },
     "execution_count": 28,
     "metadata": {},
     "output_type": "execute_result"
    }
   ],
   "source": [
    "# frequency of the “order_hour_of_day”\n",
    "ords_prods_merged['order_hour_of_day'].value_counts()"
   ]
  },
  {
   "cell_type": "markdown",
   "id": "25c79071",
   "metadata": {},
   "source": [
    "#### The three groups have been divided as:\n",
    "'Most orders'= (10, 11, 14, 15, 13, 12, 16, 9, 17);\n",
    "'Average orders' = (8, 18, 19, 20, 7, 21, 22, 23);\n",
    "and 'Fewest orders' = (6, 0, 1, 5, 2, 4, 3). "
   ]
  },
  {
   "cell_type": "code",
   "execution_count": 29,
   "id": "90e2a17a",
   "metadata": {},
   "outputs": [],
   "source": [
    "# Create an empty list into which you can place the results from your loop\n",
    "\n",
    "hour_results = []\n",
    "\n",
    "# for loop\n",
    "\n",
    "for value in ords_prods_merged[\"order_hour_of_day\"]:\n",
    "  if value in [10, 11, 14, 15, 13, 12, 16, 9, 17]:\n",
    "    hour_results.append(\"Most orders\")\n",
    "  elif value in [6, 0, 1, 5, 2, 4, 3]:\n",
    "    hour_results.append(\"Fewest Orders\")\n",
    "  else:\n",
    "    hour_results.append(\"Average orders\")\n",
    "    "
   ]
  },
  {
   "cell_type": "code",
   "execution_count": 30,
   "id": "491bb656",
   "metadata": {},
   "outputs": [],
   "source": [
    "# Create new column \n",
    "ords_prods_merged['busiest_period_of_day'] = hour_results"
   ]
  },
  {
   "cell_type": "markdown",
   "id": "0fa6f0a1",
   "metadata": {},
   "source": [
    "### 05. Print the frequency for this new column"
   ]
  },
  {
   "cell_type": "code",
   "execution_count": 31,
   "id": "297f6937",
   "metadata": {},
   "outputs": [
    {
     "data": {
      "text/plain": [
       "Most orders       23225861\n",
       "Average orders     8319621\n",
       "Fewest Orders       887548\n",
       "Name: busiest_period_of_day, dtype: int64"
      ]
     },
     "execution_count": 31,
     "metadata": {},
     "output_type": "execute_result"
    }
   ],
   "source": [
    "#Check frequency\n",
    "ords_prods_merged['busiest_period_of_day'].value_counts()"
   ]
  },
  {
   "cell_type": "code",
   "execution_count": 32,
   "id": "9b3bcfc9",
   "metadata": {
    "scrolled": true
   },
   "outputs": [
    {
     "data": {
      "text/html": [
       "<div>\n",
       "<style scoped>\n",
       "    .dataframe tbody tr th:only-of-type {\n",
       "        vertical-align: middle;\n",
       "    }\n",
       "\n",
       "    .dataframe tbody tr th {\n",
       "        vertical-align: top;\n",
       "    }\n",
       "\n",
       "    .dataframe thead th {\n",
       "        text-align: right;\n",
       "    }\n",
       "</style>\n",
       "<table border=\"1\" class=\"dataframe\">\n",
       "  <thead>\n",
       "    <tr style=\"text-align: right;\">\n",
       "      <th></th>\n",
       "      <th>order_id</th>\n",
       "      <th>user_id</th>\n",
       "      <th>order_number</th>\n",
       "      <th>orders_day_of_week</th>\n",
       "      <th>order_hour_of_day</th>\n",
       "      <th>days_since_last_order</th>\n",
       "      <th>product_id</th>\n",
       "      <th>add_to_cart_order</th>\n",
       "      <th>reordered</th>\n",
       "      <th>product_name</th>\n",
       "      <th>aisle_id</th>\n",
       "      <th>department_id</th>\n",
       "      <th>prices</th>\n",
       "      <th>_merge</th>\n",
       "      <th>price_range_loc</th>\n",
       "      <th>busiest_day</th>\n",
       "      <th>busiest_days</th>\n",
       "      <th>busiest_period_of_day</th>\n",
       "    </tr>\n",
       "  </thead>\n",
       "  <tbody>\n",
       "    <tr>\n",
       "      <th>0</th>\n",
       "      <td>2539329</td>\n",
       "      <td>1</td>\n",
       "      <td>1</td>\n",
       "      <td>2</td>\n",
       "      <td>8</td>\n",
       "      <td>NaN</td>\n",
       "      <td>196.0</td>\n",
       "      <td>1.0</td>\n",
       "      <td>0.0</td>\n",
       "      <td>Soda</td>\n",
       "      <td>77</td>\n",
       "      <td>7</td>\n",
       "      <td>9.0</td>\n",
       "      <td>both</td>\n",
       "      <td>Mid-range product</td>\n",
       "      <td>Regularly busy</td>\n",
       "      <td>Regularly busy days</td>\n",
       "      <td>Average orders</td>\n",
       "    </tr>\n",
       "    <tr>\n",
       "      <th>1</th>\n",
       "      <td>2398795</td>\n",
       "      <td>1</td>\n",
       "      <td>2</td>\n",
       "      <td>3</td>\n",
       "      <td>7</td>\n",
       "      <td>15.0</td>\n",
       "      <td>196.0</td>\n",
       "      <td>1.0</td>\n",
       "      <td>1.0</td>\n",
       "      <td>Soda</td>\n",
       "      <td>77</td>\n",
       "      <td>7</td>\n",
       "      <td>9.0</td>\n",
       "      <td>both</td>\n",
       "      <td>Mid-range product</td>\n",
       "      <td>Regularly busy</td>\n",
       "      <td>Least busy days</td>\n",
       "      <td>Average orders</td>\n",
       "    </tr>\n",
       "    <tr>\n",
       "      <th>2</th>\n",
       "      <td>473747</td>\n",
       "      <td>1</td>\n",
       "      <td>3</td>\n",
       "      <td>3</td>\n",
       "      <td>12</td>\n",
       "      <td>21.0</td>\n",
       "      <td>196.0</td>\n",
       "      <td>1.0</td>\n",
       "      <td>1.0</td>\n",
       "      <td>Soda</td>\n",
       "      <td>77</td>\n",
       "      <td>7</td>\n",
       "      <td>9.0</td>\n",
       "      <td>both</td>\n",
       "      <td>Mid-range product</td>\n",
       "      <td>Regularly busy</td>\n",
       "      <td>Least busy days</td>\n",
       "      <td>Most orders</td>\n",
       "    </tr>\n",
       "    <tr>\n",
       "      <th>3</th>\n",
       "      <td>2254736</td>\n",
       "      <td>1</td>\n",
       "      <td>4</td>\n",
       "      <td>4</td>\n",
       "      <td>7</td>\n",
       "      <td>29.0</td>\n",
       "      <td>196.0</td>\n",
       "      <td>1.0</td>\n",
       "      <td>1.0</td>\n",
       "      <td>Soda</td>\n",
       "      <td>77</td>\n",
       "      <td>7</td>\n",
       "      <td>9.0</td>\n",
       "      <td>both</td>\n",
       "      <td>Mid-range product</td>\n",
       "      <td>Least busy</td>\n",
       "      <td>Least busy days</td>\n",
       "      <td>Average orders</td>\n",
       "    </tr>\n",
       "    <tr>\n",
       "      <th>4</th>\n",
       "      <td>431534</td>\n",
       "      <td>1</td>\n",
       "      <td>5</td>\n",
       "      <td>4</td>\n",
       "      <td>15</td>\n",
       "      <td>28.0</td>\n",
       "      <td>196.0</td>\n",
       "      <td>1.0</td>\n",
       "      <td>1.0</td>\n",
       "      <td>Soda</td>\n",
       "      <td>77</td>\n",
       "      <td>7</td>\n",
       "      <td>9.0</td>\n",
       "      <td>both</td>\n",
       "      <td>Mid-range product</td>\n",
       "      <td>Least busy</td>\n",
       "      <td>Least busy days</td>\n",
       "      <td>Most orders</td>\n",
       "    </tr>\n",
       "  </tbody>\n",
       "</table>\n",
       "</div>"
      ],
      "text/plain": [
       "   order_id  user_id  order_number  orders_day_of_week  order_hour_of_day  \\\n",
       "0   2539329        1             1                   2                  8   \n",
       "1   2398795        1             2                   3                  7   \n",
       "2    473747        1             3                   3                 12   \n",
       "3   2254736        1             4                   4                  7   \n",
       "4    431534        1             5                   4                 15   \n",
       "\n",
       "   days_since_last_order  product_id  add_to_cart_order  reordered  \\\n",
       "0                    NaN       196.0                1.0        0.0   \n",
       "1                   15.0       196.0                1.0        1.0   \n",
       "2                   21.0       196.0                1.0        1.0   \n",
       "3                   29.0       196.0                1.0        1.0   \n",
       "4                   28.0       196.0                1.0        1.0   \n",
       "\n",
       "  product_name  aisle_id  department_id  prices _merge    price_range_loc  \\\n",
       "0         Soda        77              7     9.0   both  Mid-range product   \n",
       "1         Soda        77              7     9.0   both  Mid-range product   \n",
       "2         Soda        77              7     9.0   both  Mid-range product   \n",
       "3         Soda        77              7     9.0   both  Mid-range product   \n",
       "4         Soda        77              7     9.0   both  Mid-range product   \n",
       "\n",
       "      busiest_day         busiest_days busiest_period_of_day  \n",
       "0  Regularly busy  Regularly busy days        Average orders  \n",
       "1  Regularly busy      Least busy days        Average orders  \n",
       "2  Regularly busy      Least busy days           Most orders  \n",
       "3      Least busy      Least busy days        Average orders  \n",
       "4      Least busy      Least busy days           Most orders  "
      ]
     },
     "execution_count": 32,
     "metadata": {},
     "output_type": "execute_result"
    }
   ],
   "source": [
    "ords_prods_merged.head()"
   ]
  },
  {
   "cell_type": "markdown",
   "id": "823b64be",
   "metadata": {},
   "source": [
    "### 07. Export your dataframe as a pickle file"
   ]
  },
  {
   "cell_type": "code",
   "execution_count": 34,
   "id": "4e4b14ef",
   "metadata": {},
   "outputs": [],
   "source": [
    "ords_prods_merged.to_pickle(os.path.join(path, '02 Data','Prepared Data', 'ords_prods_variables.pkl'))"
   ]
  },
  {
   "cell_type": "code",
   "execution_count": null,
   "id": "845036ca",
   "metadata": {},
   "outputs": [],
   "source": []
  }
 ],
 "metadata": {
  "kernelspec": {
   "display_name": "Python 3 (ipykernel)",
   "language": "python",
   "name": "python3"
  },
  "language_info": {
   "codemirror_mode": {
    "name": "ipython",
    "version": 3
   },
   "file_extension": ".py",
   "mimetype": "text/x-python",
   "name": "python",
   "nbconvert_exporter": "python",
   "pygments_lexer": "ipython3",
   "version": "3.11.3"
  }
 },
 "nbformat": 4,
 "nbformat_minor": 5
}
