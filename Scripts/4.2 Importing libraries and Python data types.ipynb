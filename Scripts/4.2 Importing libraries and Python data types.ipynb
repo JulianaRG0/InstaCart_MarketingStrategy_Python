{
 "cells": [
  {
   "cell_type": "markdown",
   "id": "802607c3",
   "metadata": {},
   "source": [
    "# 01. Importing libraries"
   ]
  },
  {
   "cell_type": "code",
   "execution_count": 1,
   "id": "6ba10e24",
   "metadata": {},
   "outputs": [],
   "source": [
    "# Import libraries\n",
    "import pandas as pd\n",
    "import numpy as np\n",
    "import os"
   ]
  },
  {
   "cell_type": "markdown",
   "id": "42187d5e",
   "metadata": {},
   "source": [
    "# 02. Python data types"
   ]
  },
  {
   "cell_type": "markdown",
   "id": "0cf3cce5",
   "metadata": {},
   "source": [
    "## 7. Code 3 different ways of reaching a result of 100 by adding or subtracting numeric variables."
   ]
  },
  {
   "cell_type": "code",
   "execution_count": 21,
   "id": "5d16a36d",
   "metadata": {},
   "outputs": [
    {
     "name": "stdout",
     "output_type": "stream",
     "text": [
      "100\n"
     ]
    }
   ],
   "source": [
    "a = 150\n",
    "b = 50\n",
    "r1= a - b\n",
    "print(r)"
   ]
  },
  {
   "cell_type": "code",
   "execution_count": 23,
   "id": "6438070a",
   "metadata": {},
   "outputs": [
    {
     "name": "stdout",
     "output_type": "stream",
     "text": [
      "100\n"
     ]
    }
   ],
   "source": [
    "a = 80\n",
    "b = 30\n",
    "c = 10\n",
    "r2 = a + b -c\n",
    "print(r2) "
   ]
  },
  {
   "cell_type": "code",
   "execution_count": 24,
   "id": "17208423",
   "metadata": {},
   "outputs": [
    {
     "name": "stdout",
     "output_type": "stream",
     "text": [
      "100\n"
     ]
    }
   ],
   "source": [
    "a = 520\n",
    "b =65\n",
    "c = 355\n",
    "r3 = a - b - c\n",
    "print(r3) "
   ]
  },
  {
   "cell_type": "markdown",
   "id": "859e8a9c",
   "metadata": {},
   "source": [
    "## 8. Code 2 floating-point variables and divide them by each other"
   ]
  },
  {
   "cell_type": "code",
   "execution_count": 25,
   "id": "1d1575e6",
   "metadata": {},
   "outputs": [
    {
     "name": "stdout",
     "output_type": "stream",
     "text": [
      "1.75\n"
     ]
    }
   ],
   "source": [
    "a = 3.5\n",
    "b = 2.0\n",
    "r4 = a / b\n",
    "print(r4)"
   ]
  },
  {
   "cell_type": "markdown",
   "id": "578ae987",
   "metadata": {},
   "source": [
    "## 9. Construct a short word made of separate strings."
   ]
  },
  {
   "cell_type": "code",
   "execution_count": 26,
   "id": "de22e439",
   "metadata": {},
   "outputs": [
    {
     "name": "stdout",
     "output_type": "stream",
     "text": [
      "Jellyfish\n"
     ]
    }
   ],
   "source": [
    "s1='Jelly'\n",
    "s2='fish'\n",
    "word=s1+s2\n",
    "print(word)"
   ]
  },
  {
   "cell_type": "markdown",
   "id": "273c4b9b",
   "metadata": {},
   "source": [
    "## 10. Construct 2 short sentences made of separate strings"
   ]
  },
  {
   "cell_type": "code",
   "execution_count": 28,
   "id": "e013425e",
   "metadata": {},
   "outputs": [
    {
     "data": {
      "text/plain": [
       "'The cat is sleeping '"
      ]
     },
     "execution_count": 28,
     "metadata": {},
     "output_type": "execute_result"
    }
   ],
   "source": [
    "a='The '\n",
    "b='cat '\n",
    "c='is '\n",
    "d='sleeping'\n",
    "a+b+c+d"
   ]
  },
  {
   "cell_type": "code",
   "execution_count": 29,
   "id": "d69493d8",
   "metadata": {},
   "outputs": [
    {
     "data": {
      "text/plain": [
       "'The sun shines bright.'"
      ]
     },
     "execution_count": 29,
     "metadata": {},
     "output_type": "execute_result"
    }
   ],
   "source": [
    "e='The '\n",
    "f='sun '\n",
    "g='shines '\n",
    "h='bright.'\n",
    "e+f+g+h"
   ]
  },
  {
   "cell_type": "markdown",
   "id": "85d59940",
   "metadata": {},
   "source": [
    " ## Bonus include a command that makes a string appear 100 times."
   ]
  },
  {
   "cell_type": "code",
   "execution_count": 1,
   "id": "bcfd15df",
   "metadata": {
    "scrolled": true
   },
   "outputs": [
    {
     "data": {
      "text/plain": [
       "'times times times times times times times times times times times times times times times times times times times times times times times times times times times times times times times times times times times times times times times times times times times times times times times times times times times times times times times times times times times times times times times times times times times times times times times times times times times times times times times times times times times times times times times times times times times times times times times times times times times times '"
      ]
     },
     "execution_count": 1,
     "metadata": {},
     "output_type": "execute_result"
    }
   ],
   "source": [
    "i='times '\n",
    "i*100"
   ]
  }
 ],
 "metadata": {
  "kernelspec": {
   "display_name": "Python 3 (ipykernel)",
   "language": "python",
   "name": "python3"
  },
  "language_info": {
   "codemirror_mode": {
    "name": "ipython",
    "version": 3
   },
   "file_extension": ".py",
   "mimetype": "text/x-python",
   "name": "python",
   "nbconvert_exporter": "python",
   "pygments_lexer": "ipython3",
   "version": "3.11.3"
  }
 },
 "nbformat": 4,
 "nbformat_minor": 5
}
